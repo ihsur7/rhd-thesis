{
 "cells": [
  {
   "cell_type": "code",
   "execution_count": 41,
   "metadata": {},
   "outputs": [
    {
     "name": "stdout",
     "output_type": "stream",
     "text": [
      "  col1 col2 col3\n",
      "0    0    1    2\n",
      "1    3    4    5\n",
      "2    6    7    8\n",
      "['t0', 't1']\n",
      "col1    36\n",
      "Name: 2, dtype: int32\n"
     ]
    }
   ],
   "source": [
    "a = [\"props\"]*7\n",
    "# print(a)\n",
    "\n",
    "import numpy as np\n",
    "\n",
    "arr = np.reshape(np.asarray(np.arange(0, 9, step=1)), (3,3))\n",
    "# print(arr)\n",
    "\n",
    "import pandas\n",
    "df = pandas.DataFrame(arr, columns=[['col1', 'col2', 'col3']])\n",
    "# print(df)\n",
    "a = np.asarray([df, 'string'], dtype=object)\n",
    "print(a[0])\n",
    "# df['col1']\n",
    "# for i in df:\n",
    "#     print(df[i])\n",
    "\n",
    "b = ['t'+str(i) for i in list(range(2))]\n",
    "print(b)\n",
    "\n",
    "# for i in df:\n",
    "#     # print(i)\n",
    "#     print(df[i][1])\n",
    "\n",
    "print((df.loc[2, 'col1']**2))"
   ]
  }
 ],
 "metadata": {
  "interpreter": {
   "hash": "80be1b8e196623133a16324d905c75ea85323d570b30e504965184834eff3da4"
  },
  "kernelspec": {
   "display_name": "Python 3.6.5 64-bit ('venvosx': venv)",
   "language": "python",
   "name": "python3"
  },
  "language_info": {
   "codemirror_mode": {
    "name": "ipython",
    "version": 3
   },
   "file_extension": ".py",
   "mimetype": "text/x-python",
   "name": "python",
   "nbconvert_exporter": "python",
   "pygments_lexer": "ipython3",
   "version": "3.9.8"
  },
  "orig_nbformat": 4
 },
 "nbformat": 4,
 "nbformat_minor": 2
}

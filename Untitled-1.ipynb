{
 "cells": [
  {
   "cell_type": "code",
   "execution_count": 4,
   "metadata": {},
   "outputs": [
    {
     "name": "stdout",
     "output_type": "stream",
     "text": [
      "['props', 'props', 'props', 'props', 'props', 'props', 'props']\n",
      "[[1. 0. 0.]\n",
      " [0. 1. 0.]\n",
      " [0. 0. 1.]]\n",
      "  col1 col2 col3\n",
      "0  1.0  0.0  0.0\n",
      "1  0.0  1.0  0.0\n",
      "2  0.0  0.0  1.0\n",
      "1.0\n",
      "0.0\n",
      "0.0\n"
     ]
    }
   ],
   "source": [
    "a = [\"props\"]*7\n",
    "print(a)\n",
    "\n",
    "import numpy as np\n",
    "\n",
    "arr = np.eye(3)\n",
    "print(arr)\n",
    "\n",
    "import pandas\n",
    "df = pandas.DataFrame(arr, columns=[['col1', 'col2', 'col3']])\n",
    "print(df)\n",
    "df['col1']\n",
    "for i in df:\n",
    "    print(df[i][0])\n"
   ]
  }
 ],
 "metadata": {
  "interpreter": {
   "hash": "80be1b8e196623133a16324d905c75ea85323d570b30e504965184834eff3da4"
  },
  "kernelspec": {
   "display_name": "Python 3.6.5 64-bit ('venvosx': venv)",
   "language": "python",
   "name": "python3"
  },
  "language_info": {
   "codemirror_mode": {
    "name": "ipython",
    "version": 3
   },
   "file_extension": ".py",
   "mimetype": "text/x-python",
   "name": "python",
   "nbconvert_exporter": "python",
   "pygments_lexer": "ipython3",
   "version": "3.8.8"
  },
  "orig_nbformat": 4
 },
 "nbformat": 4,
 "nbformat_minor": 2
}
